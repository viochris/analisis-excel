{
 "cells": [
  {
   "cell_type": "code",
   "execution_count": 1,
   "id": "b50800f7-983f-4e91-81b8-f81aa963a086",
   "metadata": {},
   "outputs": [],
   "source": [
    "import pandas as pd\n",
    "from sqlite3 import connect\n",
    "import numpy as np\n",
    "import matplotlib.pyplot as plt\n",
    "\n",
    "path_od = \"https://raw.githubusercontent.com/dataskillsboost/FinalProjectDA11/main/order_detail.csv\"\n",
    "path_pd = \"https://raw.githubusercontent.com/dataskillsboost/FinalProjectDA11/main/payment_detail.csv\"\n",
    "path_cd = \"https://raw.githubusercontent.com/dataskillsboost/FinalProjectDA11/main/customer_detail.csv\"\n",
    "path_sd = \"https://raw.githubusercontent.com/dataskillsboost/FinalProjectDA11/main/sku_detail.csv\"\n",
    "df_od = pd.read_csv(path_od)\n",
    "df_pd = pd.read_csv(path_pd)\n",
    "df_cd = pd.read_csv(path_cd)\n",
    "df_sd = pd.read_csv(path_sd)"
   ]
  },
  {
   "cell_type": "code",
   "execution_count": 2,
   "id": "b0666086-eb42-43c6-a1a8-d8fe9331d9b9",
   "metadata": {},
   "outputs": [
    {
     "name": "stdout",
     "output_type": "stream",
     "text": [
      "                  id customer_id order_date   sku_id    price  qty_ordered  \\\n",
      "6     ODR7610732813d    C313534L 2022-12-01  P849301  2697000            1   \n",
      "7     ODR4415476736l    C215074L 2022-12-01  P918122  2533672            1   \n",
      "34    ODR3138948564v    C609754L 2022-11-06  P622378  1195902            1   \n",
      "35    ODR6438394533v    C795052L 2022-11-06  P196053   918952            1   \n",
      "36    ODR1691826218q    C118563L 2022-11-06  P748128   762062            1   \n",
      "...              ...         ...        ...      ...      ...          ...   \n",
      "5614  ODR3662257747q    C825085L 2022-10-06  P887047    28710            1   \n",
      "5777  ODR4690669141l    C856545L 2022-12-06  P194155    12818            1   \n",
      "5822  ODR7321143126q    C221220L 2022-10-02  P721905     8700            1   \n",
      "5828  ODR8470686220b    C951682L 2022-10-01  P849717     7540            1   \n",
      "5882  ODR2809405363p    C790722L 2022-11-07  P194155        0            2   \n",
      "\n",
      "      before_discount  discount_amount  after_discount  is_gross  is_valid  \\\n",
      "6           2697000.0         809100.0       1887900.0         1         1   \n",
      "7           2533672.0         760101.6       1773570.4         1         1   \n",
      "34          1195902.0         174000.0       1021902.0         1         1   \n",
      "35           918952.0         174000.0        744952.0         1         1   \n",
      "36           762062.0         174000.0        588062.0         1         1   \n",
      "...               ...              ...             ...       ...       ...   \n",
      "5614          28710.0              0.0         28710.0         1         1   \n",
      "5777          12818.0              0.0         12818.0         1         1   \n",
      "5822           8700.0              0.0          8700.0         1         1   \n",
      "5828           7540.0              0.0          7540.0         1         1   \n",
      "5882              0.0              0.0             0.0         1         1   \n",
      "\n",
      "      is_net  payment_id     month  \n",
      "6          1           1  desember  \n",
      "7          0           3  desember  \n",
      "34         1           4  november  \n",
      "35         1           4  november  \n",
      "36         1           7  november  \n",
      "...      ...         ...       ...  \n",
      "5614       1           1   oktober  \n",
      "5777       1           1  desember  \n",
      "5822       1           1   oktober  \n",
      "5828       1           1   oktober  \n",
      "5882       1           1  november  \n",
      "\n",
      "[232 rows x 14 columns]\n"
     ]
    },
    {
     "name": "stderr",
     "output_type": "stream",
     "text": [
      "C:\\Users\\Silvio\\AppData\\Local\\Temp\\ipykernel_17892\\882284809.py:3: SettingWithCopyWarning: \n",
      "A value is trying to be set on a copy of a slice from a DataFrame.\n",
      "Try using .loc[row_indexer,col_indexer] = value instead\n",
      "\n",
      "See the caveats in the documentation: https://pandas.pydata.org/pandas-docs/stable/user_guide/indexing.html#returning-a-view-versus-a-copy\n",
      "  df['order_date'] = pd.to_datetime(df[\"order_date\"])\n"
     ]
    }
   ],
   "source": [
    "df = df_od\n",
    "df = df[df['is_valid'] == 1]\n",
    "df['order_date'] = pd.to_datetime(df[\"order_date\"])\n",
    "df = df[df[\"order_date\"].dt.year == 2022]\n",
    "df = df[df[\"order_date\"].dt.month.between(10,12)]\n",
    "df['month'] = df[\"order_date\"].dt.month.replace((10,11,12), ('oktober', 'november', 'desember'))\n",
    "print(df)"
   ]
  },
  {
   "cell_type": "code",
   "execution_count": 3,
   "id": "69fbb6b6-e40d-475a-8214-77fe9348687d",
   "metadata": {},
   "outputs": [
    {
     "name": "stdout",
     "output_type": "stream",
     "text": [
      "      month   weekdays    weekend  Keuntungan/Kerugian  Persentase\n",
      "0   oktober  874690.27  634260.07           -240430.20      -37.91\n",
      "1  november  641862.00  607794.21            -34067.79       -5.61\n",
      "2  desember  813574.29  410599.40           -402974.89      -98.14\n"
     ]
    }
   ],
   "source": [
    "tabel_days = df[df[\"order_date\"].dt.day_of_week < 5]\n",
    "tabel_days = tabel_days.groupby('month')['before_discount'].mean().round(2).reset_index(name='weekdays')\n",
    "tabel_end = df[df[\"order_date\"].dt.day_of_week >= 5]\n",
    "tabel_end = tabel_end.groupby('month')['before_discount'].mean().round(2).reset_index(name='weekend')\n",
    "tabel_mix = pd.merge(tabel_days, tabel_end, left_on='month', right_on='month', how='inner').sort_values('month', ascending=True).reset_index(drop=True)\n",
    "def beda(x,y):\n",
    "    return y-x\n",
    "tabel_mix['Keuntungan/Kerugian'] = round(tabel_mix.apply(lambda x: beda(x['weekdays'], x['weekend']), axis=1), 2)\n",
    "tabel_mix['Persentase'] = round(tabel_mix['Keuntungan/Kerugian'] / tabel_mix['weekend'] * 100, 2)\n",
    "tabel_mix = tabel_mix.sort_values('month', ascending=False).reset_index(drop=True)\n",
    "print(tabel_mix)"
   ]
  },
  {
   "cell_type": "code",
   "execution_count": 4,
   "id": "3bdfd7d4-6cc2-4fd5-8088-7441ece2ba6b",
   "metadata": {},
   "outputs": [
    {
     "ename": "TypeError",
     "evalue": "'Series' object is not callable",
     "output_type": "error",
     "traceback": [
      "\u001b[1;31m---------------------------------------------------------------------------\u001b[0m",
      "\u001b[1;31mTypeError\u001b[0m                                 Traceback (most recent call last)",
      "Cell \u001b[1;32mIn[4], line 1\u001b[0m\n\u001b[1;32m----> 1\u001b[0m tabel_days \u001b[38;5;241m=\u001b[39m df[\u001b[43mdf\u001b[49m\u001b[43m[\u001b[49m\u001b[38;5;124;43m\"\u001b[39;49m\u001b[38;5;124;43morder_date\u001b[39;49m\u001b[38;5;124;43m\"\u001b[39;49m\u001b[43m]\u001b[49m\u001b[38;5;241;43m.\u001b[39;49m\u001b[43mdt\u001b[49m\u001b[38;5;241;43m.\u001b[39;49m\u001b[43mweekday\u001b[49m\u001b[43m(\u001b[49m\u001b[43m)\u001b[49m \u001b[38;5;241m<\u001b[39m \u001b[38;5;241m5\u001b[39m]\n\u001b[0;32m      2\u001b[0m tabel_days \u001b[38;5;241m=\u001b[39m tabel_days\u001b[38;5;241m.\u001b[39mgroupby(\u001b[38;5;124m'\u001b[39m\u001b[38;5;124mmonth\u001b[39m\u001b[38;5;124m'\u001b[39m)[\u001b[38;5;124m'\u001b[39m\u001b[38;5;124mbefore_discount\u001b[39m\u001b[38;5;124m'\u001b[39m]\u001b[38;5;241m.\u001b[39mmean()\u001b[38;5;241m.\u001b[39mround(\u001b[38;5;241m2\u001b[39m)\u001b[38;5;241m.\u001b[39mreset_index(name\u001b[38;5;241m=\u001b[39m\u001b[38;5;124m'\u001b[39m\u001b[38;5;124mweekdays\u001b[39m\u001b[38;5;124m'\u001b[39m)\n\u001b[0;32m      3\u001b[0m tabel_end \u001b[38;5;241m=\u001b[39m df[df[\u001b[38;5;124m\"\u001b[39m\u001b[38;5;124morder_date\u001b[39m\u001b[38;5;124m\"\u001b[39m]\u001b[38;5;241m.\u001b[39mdt\u001b[38;5;241m.\u001b[39mweekday() \u001b[38;5;241m>\u001b[39m\u001b[38;5;241m=\u001b[39m \u001b[38;5;241m5\u001b[39m]\n",
      "\u001b[1;31mTypeError\u001b[0m: 'Series' object is not callable"
     ]
    }
   ],
   "source": [
    "tabel_days = df[df[\"order_date\"].dt.weekday() < 5]\n",
    "tabel_days = tabel_days.groupby('month')['before_discount'].mean().round(2).reset_index(name='weekdays')\n",
    "tabel_end = df[df[\"order_date\"].dt.weekday() >= 5]\n",
    "tabel_end = tabel_end.groupby('month')['before_discount'].mean().round(2).reset_index(name='weekend')\n",
    "tabel_mix = pd.merge(tabel_days, tabel_end, left_on='month', right_on='month', how='inner').sort_values('month', ascending=True).reset_index(drop=True)\n",
    "def beda(x,y):\n",
    "    return y-x\n",
    "tabel_mix['Keuntungan/Kerugian'] = round(tabel_mix.apply(lambda x: beda(x['weekdays'], x['weekend']), axis=1), 2)\n",
    "tabel_mix['Persentase'] = round(tabel_mix['Keuntungan/Kerugian'] / tabel_mix['weekend'] * 100, 2)\n",
    "tabel_mix = tabel_mix.sort_values('month', ascending=False).reset_index(drop=True)\n",
    "print(tabel_mix)"
   ]
  },
  {
   "cell_type": "code",
   "execution_count": null,
   "id": "13d74392-240f-4a29-a7ab-f78dd024ecb8",
   "metadata": {},
   "outputs": [],
   "source": []
  }
 ],
 "metadata": {
  "kernelspec": {
   "display_name": "Python 3 (ipykernel)",
   "language": "python",
   "name": "python3"
  },
  "language_info": {
   "codemirror_mode": {
    "name": "ipython",
    "version": 3
   },
   "file_extension": ".py",
   "mimetype": "text/x-python",
   "name": "python",
   "nbconvert_exporter": "python",
   "pygments_lexer": "ipython3",
   "version": "3.12.2"
  }
 },
 "nbformat": 4,
 "nbformat_minor": 5
}
